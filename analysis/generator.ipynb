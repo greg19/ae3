{
 "cells": [
  {
   "cell_type": "code",
   "execution_count": 24,
   "metadata": {},
   "outputs": [],
   "source": [
    "from typing import List\n",
    "from io import TextIOWrapper\n",
    "import os"
   ]
  },
  {
   "cell_type": "code",
   "execution_count": 25,
   "metadata": {},
   "outputs": [],
   "source": [
    "def clear_folder(path: str):\n",
    "    for file in os.listdir(path):\n",
    "        os.remove(f\"{path}/{file}\")"
   ]
  },
  {
   "cell_type": "code",
   "execution_count": 26,
   "metadata": {},
   "outputs": [],
   "source": [
    "def write_prefix_strategy(f: TextIOWrapper, attacker_units: int, defender_units: int, size: int):\n",
    "    def impl(units: int):\n",
    "        f.write(\"1\\n\")\n",
    "        f.write(\"\".join(\"1\" if i < units else \"0\" for i in range(0, size)))\n",
    "        f.write(\"\\n\")\n",
    "\n",
    "    impl(attacker_units)\n",
    "    impl(defender_units)\n",
    "\n",
    "\n",
    "def write_test(path: str, iterations: int, attacker_units: int, defender_units: int, battlefields: List[int]):\n",
    "    with open(path, \"w\") as f:\n",
    "        f.write(f\"{iterations}\\n\")\n",
    "        f.write(f\"{attacker_units} {defender_units} {len(battlefields)}\\n\")\n",
    "        f.write(\" \".join(str(i) for i in battlefields))\n",
    "        f.write(\"\\n\")\n",
    "        write_prefix_strategy(f, attacker_units, defender_units, len(battlefields))"
   ]
  },
  {
   "cell_type": "code",
   "execution_count": 27,
   "metadata": {},
   "outputs": [],
   "source": [
    "def generate_balanced_battlefields(size: int) -> List[int]:\n",
    "    battlefields = []\n",
    "    battlefield_group_size = int(size / 4)\n",
    "\n",
    "    for _ in range(0, battlefield_group_size):\n",
    "        battlefields.append(2)\n",
    "    for _ in range(battlefield_group_size, 2 * battlefield_group_size):\n",
    "        battlefields.append(3)\n",
    "    for _ in range(2 * battlefield_group_size, 3 * battlefield_group_size):\n",
    "        battlefields.append(4)\n",
    "    for _ in range(3 * battlefield_group_size, size):\n",
    "        battlefields.append(5)\n",
    "    return battlefields\n",
    "\n",
    "def generate_balanced_test(path_dir: str, iterations: int, size: int):\n",
    "    attacker_units = int(float(size) * 0.4)\n",
    "    defender_units = int(float(size) * 0.6)\n",
    "    path = f\"{path_dir}/balanced_{size}.in\"\n",
    "    battlefields = generate_balanced_battlefields(size)\n",
    "    write_test(path, iterations, attacker_units, defender_units, battlefields)"
   ]
  },
  {
   "cell_type": "code",
   "execution_count": 28,
   "metadata": {},
   "outputs": [],
   "source": [
    "path = \"data/analytics/sized\"\n",
    "sized_datasets = [3, 5, 8, 10, 15, 25, 35, 50, 75, 100, 120]\n",
    "clear_folder(path)\n",
    "\n",
    "for i in range(1, 101):\n",
    "    generate_balanced_test(path, 1000, i)"
   ]
  }
 ],
 "metadata": {
  "kernelspec": {
   "display_name": ".venv",
   "language": "python",
   "name": "python3"
  },
  "language_info": {
   "codemirror_mode": {
    "name": "ipython",
    "version": 3
   },
   "file_extension": ".py",
   "mimetype": "text/x-python",
   "name": "python",
   "nbconvert_exporter": "python",
   "pygments_lexer": "ipython3",
   "version": "3.12.2"
  }
 },
 "nbformat": 4,
 "nbformat_minor": 2
}
