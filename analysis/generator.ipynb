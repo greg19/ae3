{
 "cells": [
  {
   "cell_type": "code",
   "execution_count": 1,
   "metadata": {},
   "outputs": [],
   "source": [
    "from typing import List\n",
    "from io import TextIOWrapper\n",
    "import os"
   ]
  },
  {
   "cell_type": "code",
   "execution_count": 2,
   "metadata": {},
   "outputs": [],
   "source": [
    "def clear_folder(path: str):\n",
    "    for file in os.listdir(path):\n",
    "        os.remove(f\"{path}/{file}\")"
   ]
  },
  {
   "cell_type": "code",
   "execution_count": 3,
   "metadata": {},
   "outputs": [],
   "source": [
    "def write_prefix_strategy(f: TextIOWrapper, attacker_units: int, defender_units: int, size: int):\n",
    "    def impl(units: int):\n",
    "        f.write(\"1\\n\")\n",
    "        f.write(\"\".join(\"1\" if i < units else \"0\" for i in range(0, size)))\n",
    "        f.write(\"\\n\")\n",
    "\n",
    "    impl(attacker_units)\n",
    "    impl(defender_units)\n",
    "\n",
    "def write_test(path: str, iterations: int, attacker_units: int, defender_units: int, battlefields: List[int], sa: List[str], sd: List[str]):\n",
    "    with open(path, \"w\") as f:\n",
    "        def write_strategy(xs):\n",
    "            f.write(f\"{len(xs)}\\n\")\n",
    "            for x in xs:\n",
    "                f.write(x + \"\\n\")\n",
    "\n",
    "        f.write(f\"{iterations}\\n\")\n",
    "        f.write(f\"{attacker_units} {defender_units} {len(battlefields)}\\n\")\n",
    "        f.write(\" \".join(str(i) for i in battlefields))\n",
    "        f.write(\"\\n\")\n",
    "        write_strategy(sa)\n",
    "        write_strategy(sd)"
   ]
  },
  {
   "cell_type": "code",
   "execution_count": 4,
   "metadata": {},
   "outputs": [],
   "source": [
    "def generate_balanced_battlefields(size: int) -> List[int]:\n",
    "    battlefields = []\n",
    "    battlefield_group_size = int(size / 4)\n",
    "\n",
    "    for _ in range(0, battlefield_group_size):\n",
    "        battlefields.append(2)\n",
    "    for _ in range(battlefield_group_size, 2 * battlefield_group_size):\n",
    "        battlefields.append(3)\n",
    "    for _ in range(2 * battlefield_group_size, 3 * battlefield_group_size):\n",
    "        battlefields.append(4)\n",
    "    for _ in range(3 * battlefield_group_size, size):\n",
    "        battlefields.append(5)\n",
    "    return battlefields\n",
    "\n",
    "def generate_balanced_test(path_dir: str, iterations: int, size: int):\n",
    "    def prefix_strategy(u, b):\n",
    "        return ['1' * u + '0' * (b - u)]\n",
    "    attacker_units = int(float(size) * 0.4)\n",
    "    defender_units = int(float(size) * 0.6)\n",
    "    path = f\"{path_dir}/balanced_{size}.in\"\n",
    "    battlefields = generate_balanced_battlefields(size)\n",
    "    write_test(path, iterations, attacker_units, defender_units, battlefields, prefix_strategy(attacker_units, size), prefix_strategy(defender_units, size))"
   ]
  },
  {
   "cell_type": "code",
   "execution_count": 5,
   "metadata": {},
   "outputs": [],
   "source": [
    "path = \"data/analytics/sized\"\n",
    "sized_datasets = [3, 5, 8, 10, 15, 25, 35, 50, 75, 100, 120]\n",
    "clear_folder(path)\n",
    "\n",
    "for i in range(1, 101):\n",
    "    generate_balanced_test(path, 1000, i)"
   ]
  },
  {
   "cell_type": "code",
   "execution_count": 8,
   "metadata": {},
   "outputs": [],
   "source": [
    "path = \"data/analytics/different_strats\"\n",
    "clear_folder(path)\n",
    "\n",
    "iterations = 10000\n",
    "battlefields = [2, 3, 3, 4, 4, 4, 5, 5, 5, 5]\n",
    "ba = 4\n",
    "bd = 7\n",
    "\n",
    "sas = [\n",
    "    [],\n",
    "    [\"1111000000\"],\n",
    "    [\"0000001111\"],\n",
    "]\n",
    "sds = [\n",
    "    [],\n",
    "    [\"1111111000\"],\n",
    "    [\"0001111111\"],\n",
    "]\n",
    "\n",
    "for i, sa in enumerate(sas):\n",
    "    for j, sd in enumerate(sds):\n",
    "        write_test(f\"{path}/t_{i}_{j}.in\", iterations, ba, bd, battlefields, sa, sd)"
   ]
  },
  {
   "cell_type": "code",
   "execution_count": null,
   "metadata": {},
   "outputs": [],
   "source": []
  }
 ],
 "metadata": {
  "kernelspec": {
   "display_name": ".venv",
   "language": "python",
   "name": "python3"
  },
  "language_info": {
   "codemirror_mode": {
    "name": "ipython",
    "version": 3
   },
   "file_extension": ".py",
   "mimetype": "text/x-python",
   "name": "python",
   "nbconvert_exporter": "python",
   "pygments_lexer": "ipython3",
   "version": "3.12.3"
  }
 },
 "nbformat": 4,
 "nbformat_minor": 2
}
